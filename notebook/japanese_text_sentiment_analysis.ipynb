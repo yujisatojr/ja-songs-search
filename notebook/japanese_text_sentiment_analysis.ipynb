{
 "cells": [
  {
   "cell_type": "code",
   "execution_count": 1,
   "id": "8fc8c18c-02a4-45b4-92db-d6a9e887e341",
   "metadata": {},
   "outputs": [],
   "source": [
    "from vaderSentiment.vaderSentiment import SentimentIntensityAnalyzer\n",
    "analyzer = SentimentIntensityAnalyzer()"
   ]
  },
  {
   "cell_type": "code",
   "execution_count": 2,
   "id": "bc50462b-fe24-4b86-ba9a-b389065e6bbe",
   "metadata": {
    "scrolled": true
   },
   "outputs": [
    {
     "name": "stderr",
     "output_type": "stream",
     "text": [
      "/opt/anaconda3/lib/python3.11/site-packages/transformers/pipelines/text_classification.py:104: UserWarning: `return_all_scores` is now deprecated,  if want a similar functionality use `top_k=None` instead of `return_all_scores=True` or `top_k=1` instead of `return_all_scores=False`.\n",
      "  warnings.warn(\n"
     ]
    }
   ],
   "source": [
    "from transformers import pipeline\n",
    "\n",
    "distilled_student_sentiment_classifier = pipeline(\n",
    "    model=\"lxyuan/distilbert-base-multilingual-cased-sentiments-student\", \n",
    "    return_all_scores=True\n",
    ")"
   ]
  },
  {
   "cell_type": "code",
   "execution_count": 3,
   "id": "dc21b2a7-4e09-4f55-aaac-9c731243500d",
   "metadata": {},
   "outputs": [],
   "source": [
    "# Shorten token length\n",
    "def truncate_string(string):\n",
    "    if len(string) <= 200:\n",
    "        return string\n",
    "    else:\n",
    "        return string[:200]\n",
    "\n",
    "# Use a weighted sum approach to get compound sentiment score\n",
    "def get_compound_score(string):\n",
    "\n",
    "    response = distilled_student_sentiment_classifier(truncate_string(string))\n",
    "    \n",
    "    # Define weights for sentiment labels\n",
    "    weights = {'positive': 1, 'neutral': 0, 'negative': -1}\n",
    "    \n",
    "    # Initialize variables for summing scores\n",
    "    total_score = 0\n",
    "    total_weight = 0\n",
    "    compound_score = 0\n",
    "    \n",
    "    # Iterate through each sentiment label and score\n",
    "    for sentiment in response[0]:\n",
    "        label = sentiment['label']\n",
    "        score = sentiment['score']\n",
    "        weight = weights[label]\n",
    "        total_score += score * weight\n",
    "        total_weight += weight\n",
    "    \n",
    "    # Calculate the compound score\n",
    "    if total_weight == 0:\n",
    "        return total_score\n",
    "    else:\n",
    "        compound_score = total_score / total_weight\n",
    "        return compound_score"
   ]
  },
  {
   "cell_type": "code",
   "execution_count": 4,
   "id": "3def98cc-b307-4d4e-a015-4e4ad37dfdd0",
   "metadata": {},
   "outputs": [
    {
     "name": "stdout",
     "output_type": "stream",
     "text": [
      "0.8893415778875351\n"
     ]
    }
   ],
   "source": [
    "print(get_compound_score('私は音楽が好きです'))"
   ]
  },
  {
   "cell_type": "code",
   "execution_count": null,
   "id": "cc6797af-4c23-452c-916d-2530d3366463",
   "metadata": {},
   "outputs": [],
   "source": [
    "# Deprecated approach (translate and then assign sentiment score\n",
    "\n",
    "# from translate import Translator\n",
    "\n",
    "# def translate_and_analyze_sentiment(string):\n",
    "\n",
    "#     translator = Translator(from_lang = \"ja\", to_lang=\"en\")\n",
    "#     translation = translator.translate(truncate_string(string))\n",
    "    \n",
    "#     if isinstance(translation, str):  # Check if the text is a string\n",
    "#         vs = analyzer.polarity_scores(translation)\n",
    "#         return vs['compound']\n",
    "#     else:\n",
    "#         return 0.0"
   ]
  },
  {
   "cell_type": "code",
   "execution_count": 5,
   "id": "55217dc3-7e43-45fc-acfd-0b147277f0e6",
   "metadata": {},
   "outputs": [
    {
     "name": "stdout",
     "output_type": "stream",
     "text": [
      "16650 rows\n"
     ]
    },
    {
     "name": "stderr",
     "output_type": "stream",
     "text": [
      "  0%|                                                                                         | 0/16650 [00:00<?, ?it/s]huggingface/tokenizers: The current process just got forked, after parallelism has already been used. Disabling parallelism to avoid deadlocks...\n",
      "To disable this warning, you can either:\n",
      "\t- Avoid using `tokenizers` before the fork if possible\n",
      "\t- Explicitly set the environment variable TOKENIZERS_PARALLELISM=(true | false)\n",
      "100%|█████████████████████████████████████████████████████████████████████████████| 16650/16650 [06:38<00:00, 41.82it/s]\n"
     ]
    },
    {
     "data": {
      "text/html": [
       "<div>\n",
       "<style scoped>\n",
       "    .dataframe tbody tr th:only-of-type {\n",
       "        vertical-align: middle;\n",
       "    }\n",
       "\n",
       "    .dataframe tbody tr th {\n",
       "        vertical-align: top;\n",
       "    }\n",
       "\n",
       "    .dataframe thead th {\n",
       "        text-align: right;\n",
       "    }\n",
       "</style>\n",
       "<table border=\"1\" class=\"dataframe\">\n",
       "  <thead>\n",
       "    <tr style=\"text-align: right;\">\n",
       "      <th></th>\n",
       "      <th>id</th>\n",
       "      <th>artist</th>\n",
       "      <th>song</th>\n",
       "      <th>lyrics</th>\n",
       "      <th>img_src</th>\n",
       "      <th>sentiment_score</th>\n",
       "    </tr>\n",
       "  </thead>\n",
       "  <tbody>\n",
       "    <tr>\n",
       "      <th>0</th>\n",
       "      <td>0</td>\n",
       "      <td>米津玄師</td>\n",
       "      <td>Lemon</td>\n",
       "      <td>夢ならばどれほどよかったでしょう未だにあなたのことを夢にみる忘れた物を取りに帰るように古びた...</td>\n",
       "      <td>https://m.media-amazon.com/images/I/51ZsVIMARh...</td>\n",
       "      <td>-0.669566</td>\n",
       "    </tr>\n",
       "    <tr>\n",
       "      <th>1</th>\n",
       "      <td>1</td>\n",
       "      <td>back number</td>\n",
       "      <td>クリスマスソング</td>\n",
       "      <td>どこかで鐘が鳴ってらしくない言葉が浮かんで寒さが心地よくてあれ　なんで恋なんかしてんだろう聖...</td>\n",
       "      <td>https://m.media-amazon.com/images/I/31eRU7YYby...</td>\n",
       "      <td>-0.066641</td>\n",
       "    </tr>\n",
       "    <tr>\n",
       "      <th>2</th>\n",
       "      <td>2</td>\n",
       "      <td>GReeeeN</td>\n",
       "      <td>キセキ</td>\n",
       "      <td>明日、今日よりも好きになれる　溢れる想いが止まらない今もこんなに好きでいるのに　言葉に出来な...</td>\n",
       "      <td>https://m.media-amazon.com/images/I/51L0WT553N...</td>\n",
       "      <td>0.651807</td>\n",
       "    </tr>\n",
       "    <tr>\n",
       "      <th>3</th>\n",
       "      <td>3</td>\n",
       "      <td>back number</td>\n",
       "      <td>花束</td>\n",
       "      <td>どう思う？これから2人でやっていけると思う？んんどうかなぁでもとりあえずは一緒にいたいと思っ...</td>\n",
       "      <td>https://m.media-amazon.com/images/I/51SHzjh0dC...</td>\n",
       "      <td>-0.711921</td>\n",
       "    </tr>\n",
       "    <tr>\n",
       "      <th>4</th>\n",
       "      <td>4</td>\n",
       "      <td>RADWIMPS</td>\n",
       "      <td>前前前世 (movie ver.)</td>\n",
       "      <td>やっと眼を覚ましたかい　それなのになぜ眼も合わせやしないんだい？「遅いよ」と怒る君　これでも...</td>\n",
       "      <td>https://m.media-amazon.com/images/I/51h10DfD1o...</td>\n",
       "      <td>-0.626399</td>\n",
       "    </tr>\n",
       "  </tbody>\n",
       "</table>\n",
       "</div>"
      ],
      "text/plain": [
       "   id       artist               song  \\\n",
       "0   0         米津玄師              Lemon   \n",
       "1   1  back number           クリスマスソング   \n",
       "2   2      GReeeeN                キセキ   \n",
       "3   3  back number                 花束   \n",
       "4   4     RADWIMPS  前前前世 (movie ver.)   \n",
       "\n",
       "                                              lyrics  \\\n",
       "0  夢ならばどれほどよかったでしょう未だにあなたのことを夢にみる忘れた物を取りに帰るように古びた...   \n",
       "1  どこかで鐘が鳴ってらしくない言葉が浮かんで寒さが心地よくてあれ　なんで恋なんかしてんだろう聖...   \n",
       "2  明日、今日よりも好きになれる　溢れる想いが止まらない今もこんなに好きでいるのに　言葉に出来な...   \n",
       "3  どう思う？これから2人でやっていけると思う？んんどうかなぁでもとりあえずは一緒にいたいと思っ...   \n",
       "4  やっと眼を覚ましたかい　それなのになぜ眼も合わせやしないんだい？「遅いよ」と怒る君　これでも...   \n",
       "\n",
       "                                             img_src  sentiment_score  \n",
       "0  https://m.media-amazon.com/images/I/51ZsVIMARh...        -0.669566  \n",
       "1  https://m.media-amazon.com/images/I/31eRU7YYby...        -0.066641  \n",
       "2  https://m.media-amazon.com/images/I/51L0WT553N...         0.651807  \n",
       "3  https://m.media-amazon.com/images/I/51SHzjh0dC...        -0.711921  \n",
       "4  https://m.media-amazon.com/images/I/51h10DfD1o...        -0.626399  "
      ]
     },
     "execution_count": 5,
     "metadata": {},
     "output_type": "execute_result"
    }
   ],
   "source": [
    "import pandas as pd\n",
    "from tqdm import tqdm\n",
    "\n",
    "file_path = './songs_lyrics.csv'\n",
    "df = pd.read_csv(file_path, encoding='utf-8')\n",
    "print(str(len(df)) + ' rows')\n",
    "\n",
    "tqdm.pandas()\n",
    "df['sentiment_score'] = df['lyrics'].progress_apply(get_compound_score)\n",
    "df.head()"
   ]
  },
  {
   "cell_type": "code",
   "execution_count": 6,
   "id": "474739b3-3054-4ee2-bf54-27ef14f095d9",
   "metadata": {},
   "outputs": [],
   "source": [
    "file_path = 'songs_with_sentiment_score.csv'\n",
    "df.to_csv(file_path, index=False, encoding='utf-8')"
   ]
  },
  {
   "cell_type": "code",
   "execution_count": null,
   "id": "4fd02f09-1ac2-4cb8-a41d-dc0ad76b7755",
   "metadata": {},
   "outputs": [],
   "source": []
  }
 ],
 "metadata": {
  "kernelspec": {
   "display_name": "Python 3 (ipykernel)",
   "language": "python",
   "name": "python3"
  },
  "language_info": {
   "codemirror_mode": {
    "name": "ipython",
    "version": 3
   },
   "file_extension": ".py",
   "mimetype": "text/x-python",
   "name": "python",
   "nbconvert_exporter": "python",
   "pygments_lexer": "ipython3",
   "version": "3.11.7"
  }
 },
 "nbformat": 4,
 "nbformat_minor": 5
}
