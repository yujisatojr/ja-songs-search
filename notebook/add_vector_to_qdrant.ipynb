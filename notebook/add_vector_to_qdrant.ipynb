{
 "cells": [
  {
   "cell_type": "code",
   "execution_count": 1,
   "id": "79101d0f-e3f7-45eb-9442-7a022de4dfb2",
   "metadata": {},
   "outputs": [
    {
     "name": "stdout",
     "output_type": "stream",
     "text": [
      "2222 rows\n"
     ]
    },
    {
     "data": {
      "text/html": [
       "<div>\n",
       "<style scoped>\n",
       "    .dataframe tbody tr th:only-of-type {\n",
       "        vertical-align: middle;\n",
       "    }\n",
       "\n",
       "    .dataframe tbody tr th {\n",
       "        vertical-align: top;\n",
       "    }\n",
       "\n",
       "    .dataframe thead th {\n",
       "        text-align: right;\n",
       "    }\n",
       "</style>\n",
       "<table border=\"1\" class=\"dataframe\">\n",
       "  <thead>\n",
       "    <tr style=\"text-align: right;\">\n",
       "      <th></th>\n",
       "      <th>id</th>\n",
       "      <th>artist</th>\n",
       "      <th>song</th>\n",
       "      <th>lyrics</th>\n",
       "      <th>img_src</th>\n",
       "      <th>sentiment_score</th>\n",
       "      <th>metadata</th>\n",
       "      <th>metadata_vector</th>\n",
       "    </tr>\n",
       "  </thead>\n",
       "  <tbody>\n",
       "    <tr>\n",
       "      <th>0</th>\n",
       "      <td>0</td>\n",
       "      <td>米津玄師</td>\n",
       "      <td>Lemon</td>\n",
       "      <td>夢ならばどれほどよかったでしょう未だにあなたのことを夢にみる忘れた物を取りに帰るように古びた...</td>\n",
       "      <td>https://m.media-amazon.com/images/I/51ZsVIMARh...</td>\n",
       "      <td>-0.669566</td>\n",
       "      <td>米津玄師 / Lemon / 夢ならばどれほどよかったでしょう未だにあなたのことを夢にみる忘...</td>\n",
       "      <td>[0.0367952436208725, -0.01923556998372078, -0....</td>\n",
       "    </tr>\n",
       "    <tr>\n",
       "      <th>1</th>\n",
       "      <td>1</td>\n",
       "      <td>back number</td>\n",
       "      <td>クリスマスソング</td>\n",
       "      <td>どこかで鐘が鳴ってらしくない言葉が浮かんで寒さが心地よくてあれ　なんで恋なんかしてんだろう聖...</td>\n",
       "      <td>https://m.media-amazon.com/images/I/31eRU7YYby...</td>\n",
       "      <td>-0.066641</td>\n",
       "      <td>back number / クリスマスソング / どこかで鐘が鳴ってらしくない言葉が浮かんで...</td>\n",
       "      <td>[0.004695550538599491, -0.05602886155247688, -...</td>\n",
       "    </tr>\n",
       "    <tr>\n",
       "      <th>2</th>\n",
       "      <td>2</td>\n",
       "      <td>GReeeeN</td>\n",
       "      <td>キセキ</td>\n",
       "      <td>明日、今日よりも好きになれる　溢れる想いが止まらない今もこんなに好きでいるのに　言葉に出来な...</td>\n",
       "      <td>https://m.media-amazon.com/images/I/51L0WT553N...</td>\n",
       "      <td>0.651807</td>\n",
       "      <td>GReeeeN / キセキ / 明日、今日よりも好きになれる　溢れる想いが止まらない今もこん...</td>\n",
       "      <td>[0.0385475717484951, -0.042898621410131454, 0....</td>\n",
       "    </tr>\n",
       "    <tr>\n",
       "      <th>3</th>\n",
       "      <td>3</td>\n",
       "      <td>back number</td>\n",
       "      <td>花束</td>\n",
       "      <td>どう思う？これから2人でやっていけると思う？んんどうかなぁでもとりあえずは一緒にいたいと思っ...</td>\n",
       "      <td>https://m.media-amazon.com/images/I/51SHzjh0dC...</td>\n",
       "      <td>-0.711921</td>\n",
       "      <td>back number / 花束 / どう思う？これから2人でやっていけると思う？んんどうか...</td>\n",
       "      <td>[-0.005037600640207529, -0.05399758741259575, ...</td>\n",
       "    </tr>\n",
       "    <tr>\n",
       "      <th>4</th>\n",
       "      <td>4</td>\n",
       "      <td>RADWIMPS</td>\n",
       "      <td>前前前世 (movie ver.)</td>\n",
       "      <td>やっと眼を覚ましたかい　それなのになぜ眼も合わせやしないんだい？「遅いよ」と怒る君　これでも...</td>\n",
       "      <td>https://m.media-amazon.com/images/I/51h10DfD1o...</td>\n",
       "      <td>-0.626399</td>\n",
       "      <td>RADWIMPS / 前前前世 (movie ver.) / やっと眼を覚ましたかい　それな...</td>\n",
       "      <td>[0.03341161459684372, 0.004328139126300812, -0...</td>\n",
       "    </tr>\n",
       "  </tbody>\n",
       "</table>\n",
       "</div>"
      ],
      "text/plain": [
       "   id       artist               song  \\\n",
       "0   0         米津玄師              Lemon   \n",
       "1   1  back number           クリスマスソング   \n",
       "2   2      GReeeeN                キセキ   \n",
       "3   3  back number                 花束   \n",
       "4   4     RADWIMPS  前前前世 (movie ver.)   \n",
       "\n",
       "                                              lyrics  \\\n",
       "0  夢ならばどれほどよかったでしょう未だにあなたのことを夢にみる忘れた物を取りに帰るように古びた...   \n",
       "1  どこかで鐘が鳴ってらしくない言葉が浮かんで寒さが心地よくてあれ　なんで恋なんかしてんだろう聖...   \n",
       "2  明日、今日よりも好きになれる　溢れる想いが止まらない今もこんなに好きでいるのに　言葉に出来な...   \n",
       "3  どう思う？これから2人でやっていけると思う？んんどうかなぁでもとりあえずは一緒にいたいと思っ...   \n",
       "4  やっと眼を覚ましたかい　それなのになぜ眼も合わせやしないんだい？「遅いよ」と怒る君　これでも...   \n",
       "\n",
       "                                             img_src sentiment_score  \\\n",
       "0  https://m.media-amazon.com/images/I/51ZsVIMARh...       -0.669566   \n",
       "1  https://m.media-amazon.com/images/I/31eRU7YYby...       -0.066641   \n",
       "2  https://m.media-amazon.com/images/I/51L0WT553N...        0.651807   \n",
       "3  https://m.media-amazon.com/images/I/51SHzjh0dC...       -0.711921   \n",
       "4  https://m.media-amazon.com/images/I/51h10DfD1o...       -0.626399   \n",
       "\n",
       "                                            metadata  \\\n",
       "0  米津玄師 / Lemon / 夢ならばどれほどよかったでしょう未だにあなたのことを夢にみる忘...   \n",
       "1  back number / クリスマスソング / どこかで鐘が鳴ってらしくない言葉が浮かんで...   \n",
       "2  GReeeeN / キセキ / 明日、今日よりも好きになれる　溢れる想いが止まらない今もこん...   \n",
       "3  back number / 花束 / どう思う？これから2人でやっていけると思う？んんどうか...   \n",
       "4  RADWIMPS / 前前前世 (movie ver.) / やっと眼を覚ましたかい　それな...   \n",
       "\n",
       "                                     metadata_vector  \n",
       "0  [0.0367952436208725, -0.01923556998372078, -0....  \n",
       "1  [0.004695550538599491, -0.05602886155247688, -...  \n",
       "2  [0.0385475717484951, -0.042898621410131454, 0....  \n",
       "3  [-0.005037600640207529, -0.05399758741259575, ...  \n",
       "4  [0.03341161459684372, 0.004328139126300812, -0...  "
      ]
     },
     "execution_count": 1,
     "metadata": {},
     "output_type": "execute_result"
    }
   ],
   "source": [
    "import pandas as pd\n",
    "import os\n",
    "from openai import OpenAI\n",
    "import openai\n",
    "from dotenv import load_dotenv, find_dotenv\n",
    "from qdrant_client import models, QdrantClient\n",
    "from qdrant_client.http import models as rest\n",
    "from qdrant_client.http.models import Record\n",
    "from sentence_transformers import SentenceTransformer\n",
    "\n",
    "load_dotenv(find_dotenv())\n",
    "client = OpenAI(\n",
    "    api_key=os.getenv('OPENAI_API_KEY'),\n",
    ")\n",
    "\n",
    "# Read the CSV dataset\n",
    "file_path = '../datasets/songs_embeddings.csv'\n",
    "df = pd.read_csv(file_path) # Add .head(100) if you want to limit the number of rows\n",
    "\n",
    "df = df.fillna('')\n",
    "\n",
    "print(str(len(df)) + ' rows')\n",
    "df.head()"
   ]
  },
  {
   "cell_type": "code",
   "execution_count": 2,
   "id": "b815a31d-c51f-48f5-b16c-67a09306a6e8",
   "metadata": {},
   "outputs": [
    {
     "name": "stdout",
     "output_type": "stream",
     "text": [
      "collections=[CollectionDescription(name='songs')]\n"
     ]
    },
    {
     "data": {
      "text/plain": [
       "CountResult(count=2222)"
      ]
     },
     "execution_count": 2,
     "metadata": {},
     "output_type": "execute_result"
    }
   ],
   "source": [
    "import ast\n",
    "\n",
    "# Initialize the Qdrant client\n",
    "qdrant_client = QdrantClient(':memory:')\n",
    "\n",
    "# Set the collection name and size\n",
    "collection_name = 'songs'\n",
    "vector_size = len(ast.literal_eval(df['metadata_vector'][0]))  # Convert string to list and get its length\n",
    "\n",
    "# Create a collection\n",
    "qdrant_client.recreate_collection(\n",
    "    collection_name=collection_name,\n",
    "    vectors_config={\n",
    "        'metadata': rest.VectorParams(\n",
    "            distance=rest.Distance.COSINE,\n",
    "            size=vector_size,\n",
    "        ),\n",
    "    }\n",
    ")\n",
    "\n",
    "# Add vectors to the collection\n",
    "qdrant_client.upsert(\n",
    "    collection_name=collection_name,\n",
    "    points=[\n",
    "        rest.PointStruct(\n",
    "            id=k,\n",
    "            vector={\n",
    "                'metadata': ast.literal_eval(v['metadata_vector']),  # Convert string to list\n",
    "            },\n",
    "            payload=v.to_dict(),\n",
    "        )\n",
    "        for k, v in df.iterrows()\n",
    "    ],\n",
    ")\n",
    "\n",
    "print(qdrant_client.get_collections())\n",
    "qdrant_client.count(collection_name=collection_name)"
   ]
  },
  {
   "cell_type": "code",
   "execution_count": 6,
   "id": "70ada4bd-f5e2-405f-990d-ee5cc7bbc468",
   "metadata": {},
   "outputs": [],
   "source": [
    "# Generate a query embedding and search in Qdrant\n",
    "def query_qdrant(query, collection_name, vector_name, top_k=20):\n",
    "    # Creates embedding vector from user query\n",
    "    completion = openai.embeddings.create(\n",
    "        input=query,\n",
    "        model='text-embedding-3-small'  # Be sure to use the same embedding model as the vectors in the collection\n",
    "    )\n",
    "\n",
    "    embedded_query = completion.data[0].embedding\n",
    "\n",
    "    query_results = qdrant_client.search(\n",
    "        collection_name=collection_name,\n",
    "        query_vector=(\n",
    "            vector_name, embedded_query\n",
    "        ),\n",
    "        limit=top_k,\n",
    "    )\n",
    "    \n",
    "    return query_results"
   ]
  },
  {
   "cell_type": "code",
   "execution_count": 12,
   "id": "c80e96b5-0ffe-4c26-b64f-0845f01432d8",
   "metadata": {},
   "outputs": [
    {
     "name": "stdout",
     "output_type": "stream",
     "text": [
      "1. 高校三年生 舟木一夫 (Score: 0.521)\n",
      "2. 初恋 村下孝蔵 (Score: 0.502)\n",
      "3. LOVE SONG CHAGE and ASKA (Score: 0.499)\n",
      "4. 学生時代 ペギー葉山 (Score: 0.487)\n",
      "5. 純恋歌 湘南乃風 (Score: 0.483)\n",
      "6. Luv Bias Kis-My-Ft2 (Score: 0.468)\n",
      "7. 青春時代 森田公一とトップギャラン (Score: 0.466)\n",
      "8. Highschool love E-girls (Score: 0.466)\n",
      "9. Gee 少女時代 (Score: 0.462)\n",
      "10. Love Story 安室奈美恵 (Score: 0.459)\n",
      "11. Sweet Tweet Official髭男dism (Score: 0.459)\n",
      "12. 純愛ラプソディ 竹内まりや (Score: 0.458)\n",
      "13. プルメリア ～花唄～ Aqua Timez (Score: 0.456)\n",
      "14. 夏の日の1993 class (Score: 0.448)\n",
      "15. 白い恋人達 桑田佳祐 (Score: 0.448)\n",
      "16. 青いベンチ サスケ (Score: 0.447)\n",
      "17. 君はロックを聴かない あいみょん (Score: 0.445)\n",
      "18. 小さな恋のうた MONGOL800 (Score: 0.443)\n",
      "19. ずっと2人で… GLAY (Score: 0.44)\n",
      "20. また君に恋してる 坂本冬美 (Score: 0.44)\n"
     ]
    }
   ],
   "source": [
    "# Search for similar vectors and store a result\n",
    "query_results = query_qdrant('高校生時代の恋に関する曲', collection_name=collection_name, vector_name='metadata')\n",
    "\n",
    "for i, vector in enumerate(query_results):\n",
    "    print(f\"{i + 1}. {vector.payload['song']} {vector.payload['artist']} (Score: {round(vector.score, 3)})\")"
   ]
  },
  {
   "cell_type": "code",
   "execution_count": 24,
   "id": "07dec280-59e1-40f2-9f42-77d2d3d05bc6",
   "metadata": {},
   "outputs": [
    {
     "name": "stdout",
     "output_type": "stream",
     "text": [
      "1. 宙船(そらふね) TOKIO (Score: 0.347)\n",
      "2. 海の声 BEGIN (Score: 0.328)\n",
      "3. Friend Ship 星野源 (Score: 0.325)\n",
      "4. OCEAN B'z (Score: 0.322)\n",
      "5. 海の声 浦島太郎(桐谷健太) (Score: 0.32)\n",
      "6. 海の幽霊 米津玄師 (Score: 0.317)\n",
      "7. 風のゆくえ Ado (Score: 0.314)\n",
      "8. 島人ぬ宝 BEGIN (Score: 0.313)\n",
      "9. ビンクスの酒 麦わらの一味 (Score: 0.309)\n",
      "10. RIP Orangestar (Score: 0.308)\n",
      "11. Hey Ho SEKAI NO OWARI (Score: 0.292)\n",
      "12. みだれ髪 美空ひばり (Score: 0.29)\n",
      "13. 別れの予感 テレサ・テン (Score: 0.285)\n",
      "14. RPG SEKAI NO OWARI (Score: 0.284)\n",
      "15. ガールズルール 乃木坂46 (Score: 0.278)\n",
      "16. 瑠璃色の地球 松田聖子 (Score: 0.273)\n",
      "17. 世界中のこどもたちが 童謡・唱歌 (Score: 0.272)\n",
      "18. シスター ポルノグラフィティ (Score: 0.269)\n",
      "19. ドラえもんえかきうた 大山のぶ代 (Score: 0.268)\n",
      "20. ファイト！ 中島みゆき (Score: 0.261)\n"
     ]
    }
   ],
   "source": [
    "# Search for similar vectors and store a result\n",
    "query_results = query_qdrant('海に関する', collection_name=collection_name, vector_name='metadata')\n",
    "\n",
    "for i, vector in enumerate(query_results):\n",
    "    print(f\"{i + 1}. {vector.payload['song']} {vector.payload['artist']} (Score: {round(vector.score, 3)})\")"
   ]
  },
  {
   "cell_type": "code",
   "execution_count": 23,
   "id": "0969a0d5-486c-47f8-82df-988dcee46c07",
   "metadata": {},
   "outputs": [
    {
     "name": "stdout",
     "output_type": "stream",
     "text": [
      "1. 駅 竹内まりや (Score: 0.426)\n",
      "2. SWEET MEMORIES 松田聖子 (Score: 0.422)\n",
      "3. 想い出がいっぱい H2O (Score: 0.421)\n",
      "4. ら・ら・ら 大黒摩季 (Score: 0.416)\n",
      "5. やさしさに包まれたなら 松任谷由実 (Score: 0.407)\n",
      "6. カブトムシ aiko (Score: 0.405)\n",
      "7. ロード THE 虎舞竜 (Score: 0.405)\n",
      "8. 二人 aiko (Score: 0.4)\n",
      "9. うたかた花火 supercell (Score: 0.398)\n",
      "10. 帰り道は遠回りしたくなる 乃木坂46 (Score: 0.398)\n",
      "11. 花鳥風月 SEKAI NO OWARI (Score: 0.395)\n",
      "12. 優しい彗星 YOASOBI (Score: 0.394)\n",
      "13. ドーナツホール 米津玄師 (Score: 0.393)\n",
      "14. 勝手にシンドバッド サザンオールスターズ (Score: 0.393)\n",
      "15. 愛燦燦 美空ひばり (Score: 0.392)\n",
      "16. 蕾 コブクロ (Score: 0.391)\n",
      "17. Pieces L'Arc～en～Ciel (Score: 0.39)\n",
      "18. また今日と同じ明日が来る 二宮和也(嵐) (Score: 0.389)\n",
      "19. うれしい！たのしい！大好き！ DREAMS COME TRUE (Score: 0.389)\n",
      "20. 夢見月に何想ふ RADWIMPS (Score: 0.387)\n"
     ]
    }
   ],
   "source": [
    "# Search for similar vectors and store a result\n",
    "query_results = query_qdrant('懐かしい', collection_name=collection_name, vector_name='metadata')\n",
    "\n",
    "for i, vector in enumerate(query_results):\n",
    "    print(f\"{i + 1}. {vector.payload['song']} {vector.payload['artist']} (Score: {round(vector.score, 3)})\")"
   ]
  },
  {
   "cell_type": "code",
   "execution_count": 28,
   "id": "3f024ef9-2b90-4f13-8028-7a52aeb98e7f",
   "metadata": {},
   "outputs": [
    {
     "name": "stdout",
     "output_type": "stream",
     "text": [
      "1. アップルパイ back number (Score: 0.337)\n",
      "2. Flamingo 米津玄師 (Score: 0.317)\n",
      "3. いろはにほへと 椎名林檎 (Score: 0.315)\n",
      "4. 種のうた ストロベリー・フラワー (Score: 0.312)\n",
      "5. あめふりくまのこ おかあさんといっしょ (Score: 0.308)\n",
      "6. 真夏の果実 サザンオールスターズ (Score: 0.304)\n",
      "7. おべんとうばこのうた 童謡・唱歌 (Score: 0.301)\n",
      "8. あんずのうた 双葉杏(五十嵐裕美) (Score: 0.299)\n",
      "9. Lemon 米津玄師 (Score: 0.298)\n",
      "10. CANDY Mr.Children (Score: 0.297)\n",
      "11. 愛のうた ストロベリー・フラワー (Score: 0.291)\n",
      "12. ミックスナッツ Official髭男dism (Score: 0.289)\n",
      "13. 勇気りんりん ドリーミング (Score: 0.288)\n",
      "14. 紅葉(もみじ) 童謡・唱歌 (Score: 0.284)\n",
      "15. ちょうちょう 童謡・唱歌 (Score: 0.282)\n",
      "16. リンゴの唄 並木路子 (Score: 0.275)\n",
      "17. ありあまる富 椎名林檎 (Score: 0.274)\n",
      "18. 愛のままで… 秋元順子 (Score: 0.274)\n",
      "19. PEACH 大塚愛 (Score: 0.274)\n",
      "20. 黒毛和牛上塩タン焼680円 大塚愛 (Score: 0.27)\n"
     ]
    }
   ],
   "source": [
    "# Search for similar vectors and store a result\n",
    "query_results = query_qdrant('果物', collection_name=collection_name, vector_name='metadata')\n",
    "\n",
    "for i, vector in enumerate(query_results):\n",
    "    print(f\"{i + 1}. {vector.payload['song']} {vector.payload['artist']} (Score: {round(vector.score, 3)})\")"
   ]
  },
  {
   "cell_type": "code",
   "execution_count": null,
   "id": "91a0fc03-7a9f-41a2-a6b7-04b3de4a9cb2",
   "metadata": {},
   "outputs": [],
   "source": []
  }
 ],
 "metadata": {
  "kernelspec": {
   "display_name": "Python 3 (ipykernel)",
   "language": "python",
   "name": "python3"
  },
  "language_info": {
   "codemirror_mode": {
    "name": "ipython",
    "version": 3
   },
   "file_extension": ".py",
   "mimetype": "text/x-python",
   "name": "python",
   "nbconvert_exporter": "python",
   "pygments_lexer": "ipython3",
   "version": "3.11.7"
  }
 },
 "nbformat": 4,
 "nbformat_minor": 5
}
